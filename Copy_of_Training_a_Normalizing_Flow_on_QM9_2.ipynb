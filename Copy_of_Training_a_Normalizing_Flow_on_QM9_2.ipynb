{
  "nbformat": 4,
  "nbformat_minor": 0,
  "metadata": {
    "colab": {
      "name": "Copy of Training_a_Normalizing_Flow_on_QM9_2.ipynb",
      "provenance": [],
      "collapsed_sections": []
    },
    "kernelspec": {
      "name": "python3",
      "display_name": "Python 3"
    }
  },
  "cells": [
    {
      "cell_type": "markdown",
      "metadata": {
        "id": "8BrLuyU3kMdt"
      },
      "source": [
        "# Tutorial Part ??: Training a Normalizing Flow on QM9\n",
        "By [Nathan C. Frey](https://ncfrey.github.io/) | [Twitter](https://twitter.com/nc_frey)\n",
        "\n",
        "\n",
        "In this tutorial, we will train a Normalizing Flow (NF) on the [QM9 dataset](https://www.nature.com/articles/sdata201422). The dataset comprises 133,885 stable small organic molecules made up of CHNOF atoms. We will try to train a network that is an invertible transformation between a simple base distribution and the distribution of molecules in QM9.  One of the key advantages of normalizing flows is that they can be constructed to efficiently sample from a distribution (generative modeling) and do probability density calculations (exactly compute log-likelihoods), whereas other models make tradeoffs between the two or can only approximate probability densities.\n",
        "\n",
        "NFs are useful whenever we need a probabilistic model with one or both of these capabilities. Note that because NFs are completely invertible, there is no \"latent space\" in the sense used when referring to generative adversarial networks or variational autoencoders. For more on NFs, we refer to this [review paper](https://arxiv.org/pdf/1912.02762.pdf).\n",
        "\n",
        "\n",
        "To encode the QM9 dataset, we'll make use of the SELFIES (SELF-referencIng Embedded Strings) representation, which is a 100% robust molecular string representation. SMILES strings produced by generative models are often syntactically invalid (they do not correspond to a molecular graph), or they violate chemical rules like the maximum number of bonds between atoms. SELFIES are designed so that even totally random SELFIES strings correspond to valid molecular graphs, so they are a great framework for generative modeling. For more details about SELFIES, see the [GitHub repo](https://github.com/aspuru-guzik-group/selfies) and the associated [paper](https://arxiv.org/abs/1905.13741).\n",
        "\n",
        "\n",
        "## Colab\n",
        "\n",
        "This tutorial and the rest in this sequence are designed to be done in Google colab. If you'd like to open this notebook in colab, you can use the following link.\n",
        "\n",
        "[![Open In Colab](https://colab.research.google.com/assets/colab-badge.svg)](https://colab.research.google.com/github/deepchem/deepchem/blob/master/examples/tutorials/23_Training_a_Normalizing_Flow_on_QM9.ipynb)\n",
        "\n",
        "## Setup\n",
        "\n",
        "To run DeepChem within Colab, you'll need to run the following cell of installation commands. This will take about 5 minutes to run to completion and install your environment."
      ]
    },
    {
      "cell_type": "code",
      "metadata": {
        "id": "06FZl9Nqj_jq",
        "colab": {
          "base_uri": "https://localhost:8080/"
        },
        "outputId": "97104cdc-d641-48a5-8886-8af3b7d9c347"
      },
      "source": [
        "#!curl -Lo conda_installer.py https://raw.githubusercontent.com/deepchem/deepchem/master/scripts/colab_install.py\n",
        "#import conda_installer\n",
        "#conda_installer.install()\n",
        "#!/root/miniconda/bin/conda info -e\n",
        "!pip install -q condacolab\n",
        "import condacolab \n",
        "condacolab.install() \n",
        "!/usr/local/bin/conda info -e"
      ],
      "execution_count": 1,
      "outputs": [
        {
          "output_type": "stream",
          "name": "stdout",
          "text": [
            "⏬ Downloading https://github.com/jaimergp/miniforge/releases/latest/download/Mambaforge-colab-Linux-x86_64.sh...\n",
            "📦 Installing...\n",
            "📌 Adjusting configuration...\n",
            "🩹 Patching environment...\n",
            "⏲ Done in 0:00:44\n",
            "🔁 Restarting kernel...\n",
            "# conda environments:\n",
            "#\n",
            "base                  *  /usr/local\n",
            "\n"
          ]
        }
      ]
    },
    {
      "cell_type": "code",
      "source": [
        "import condacolab\n",
        "condacolab.check()"
      ],
      "metadata": {
        "colab": {
          "base_uri": "https://localhost:8080/"
        },
        "id": "PCFLH6STvByq",
        "outputId": "49f6cc03-b7df-4ad7-952f-c8bfce0bba54"
      },
      "execution_count": 1,
      "outputs": [
        {
          "output_type": "stream",
          "name": "stdout",
          "text": [
            "✨🍰✨ Everything looks OK!\n"
          ]
        }
      ]
    },
    {
      "cell_type": "code",
      "metadata": {
        "id": "dVXJOn-p8Pld"
      },
      "source": [
        "!pip install --pre deepchem\n",
        "import deepchem\n",
        "deepchem.__version__"
      ],
      "execution_count": null,
      "outputs": []
    },
    {
      "cell_type": "markdown",
      "metadata": {
        "id": "OGVYBZh6Gq7N"
      },
      "source": [
        "Install the SELFIES library to translate SMILES strings."
      ]
    },
    {
      "cell_type": "code",
      "metadata": {
        "id": "sqEygLk5GLYF",
        "colab": {
          "base_uri": "https://localhost:8080/"
        },
        "outputId": "175f890f-7709-42f8-f6bc-429c5ef73e53"
      },
      "source": [
        "!pip install selfies"
      ],
      "execution_count": 3,
      "outputs": [
        {
          "output_type": "stream",
          "name": "stdout",
          "text": [
            "Collecting selfies\n",
            "  Downloading selfies-2.0.0-py3-none-any.whl (33 kB)\n",
            "Installing collected packages: selfies\n",
            "Successfully installed selfies-2.0.0\n"
          ]
        }
      ]
    },
    {
      "cell_type": "code",
      "source": [
        "!mamba install -c conda-forge rdkit"
      ],
      "metadata": {
        "id": "FeqnQ3XSvRrp"
      },
      "execution_count": null,
      "outputs": []
    },
    {
      "cell_type": "code",
      "metadata": {
        "id": "FpqPgmalHCdb"
      },
      "source": [
        "import numpy as np\n",
        "import matplotlib.pyplot as plt\n",
        "import seaborn as sns\n",
        "import pandas as pd\n",
        "import os\n",
        "\n",
        "import deepchem as dc\n",
        "from deepchem.models.normalizing_flows import NormalizingFlow, NormalizingFlowModel\n",
        "from deepchem.models.optimizers import Adam\n",
        "from deepchem.data import NumpyDataset\n",
        "from deepchem.splits import RandomSplitter\n",
        "from deepchem.molnet import load_tox21\n",
        "\n",
        "import rdkit\n",
        "from rdkit import Chem\n",
        "from rdkit.Chem.Draw import IPythonConsole\n",
        "from rdkit.Chem import Draw\n",
        "\n",
        "from IPython.display import Image, display\n",
        "\n",
        "import selfies as sf\n",
        "\n",
        "import tensorflow as tf\n",
        "import tensorflow_probability as tfp\n",
        "\n",
        "tfd = tfp.distributions\n",
        "tfb = tfp.bijectors\n",
        "tfk = tf.keras\n",
        "\n",
        "tfk.backend.set_floatx('float64')"
      ],
      "execution_count": 5,
      "outputs": []
    },
    {
      "cell_type": "markdown",
      "metadata": {
        "id": "XYRunI2yHoLS"
      },
      "source": [
        "First, let's get a dataset of 2500 small organic molecules from the QM9 dataset. We'll then convert the molecules to SELFIES, one-hot encode them, and dequantize the inputs so they can be processed by a normalizing flow. 2000 molecules will be used for training, while the remaining 500 will be split into validation and test sets. We'll use the validation set to see how our architecture is doing at learning the underlying the distribution, and leave the test set alone. You should feel free to experiment with this notebook to get the best model you can and evaluate it on the test set when you're done!"
      ]
    },
    {
      "cell_type": "code",
      "metadata": {
        "id": "k2-L2gFHr04H"
      },
      "source": [
        "# Download from MolNet\n",
        "tasks, datasets, transformers = dc.molnet.load_qm9(featurizer='ECFP')\n",
        "df = pd.DataFrame(data={'smiles': datasets[0].ids})"
      ],
      "execution_count": null,
      "outputs": []
    },
    {
      "cell_type": "code",
      "metadata": {
        "id": "fdo6CJMPGyig"
      },
      "source": [
        "data = df[['smiles']].sample(2500, random_state=42)"
      ],
      "execution_count": 7,
      "outputs": []
    },
    {
      "cell_type": "markdown",
      "metadata": {
        "id": "ZMh-1QUqCxkY"
      },
      "source": [
        "SELFIES defines a dictionary called `bond_constraints` that enforces how many bonds every atom or ion can make. E.g., 'C': 4, 'H': 1, etc. The `?` symbol is used for any atom or ion that isn't defined in the dictionary, and it defaults to 8 bonds. Because QM9 contains ions and we don't want to allow those ions to form up to 8 bonds, we'll constrain them to 3. This will really improve the percentage of valid molecules we generate. You can read more about setting constraints in the [SELFIES documentation](https://selfies-mirror.readthedocs.io/en/latest/selfies_examples.html#Advanced-Usage)."
      ]
    },
    {
      "cell_type": "code",
      "metadata": {
        "id": "6cOS0cNTdb0I",
        "colab": {
          "base_uri": "https://localhost:8080/"
        },
        "outputId": "9c5cf0da-81c3-4949-c50d-ff36d31749a4"
      },
      "source": [
        "sf.set_semantic_constraints()  # reset constraints\n",
        "constraints = sf.get_semantic_constraints()\n",
        "constraints['?'] = 3\n",
        "\n",
        "sf.set_semantic_constraints(constraints)\n",
        "constraints"
      ],
      "execution_count": 8,
      "outputs": [
        {
          "output_type": "execute_result",
          "data": {
            "text/plain": [
              "{'?': 3,\n",
              " 'B': 3,\n",
              " 'B+1': 2,\n",
              " 'B-1': 4,\n",
              " 'Br': 1,\n",
              " 'C': 4,\n",
              " 'C+1': 5,\n",
              " 'C-1': 3,\n",
              " 'Cl': 1,\n",
              " 'F': 1,\n",
              " 'H': 1,\n",
              " 'I': 1,\n",
              " 'N': 3,\n",
              " 'N+1': 4,\n",
              " 'N-1': 2,\n",
              " 'O': 2,\n",
              " 'O+1': 3,\n",
              " 'O-1': 1,\n",
              " 'P': 5,\n",
              " 'P+1': 6,\n",
              " 'P-1': 4,\n",
              " 'S': 6,\n",
              " 'S+1': 7,\n",
              " 'S-1': 5}"
            ]
          },
          "metadata": {},
          "execution_count": 8
        }
      ]
    },
    {
      "cell_type": "code",
      "metadata": {
        "id": "2N5zUFvSV7uv"
      },
      "source": [
        "def preprocess_smiles(smiles):\n",
        "  return sf.encoder(smiles)  \n",
        "\n",
        "def keys_int(symbol_to_int):\n",
        "  d={}\n",
        "  i=0\n",
        "  for key in symbol_to_int.keys():\n",
        "    d[i]=key\n",
        "    i+=1\n",
        "  return d\n",
        "\n",
        "data['selfies'] = data['smiles'].apply(preprocess_smiles)"
      ],
      "execution_count": 9,
      "outputs": []
    },
    {
      "cell_type": "markdown",
      "metadata": {
        "id": "rAriEcI7e5wl"
      },
      "source": [
        "Let's take a look at some short SMILES strings and their corresponding SELFIES representations. We can see right away that there is a key difference in how the two representations deal with Rings and Branches. SELFIES is designed so that branch length and ring size are stored locally with the `Branch` and `Ring` identifiers, and the SELFIES grammar prevents invalid strings."
      ]
    },
    {
      "cell_type": "code",
      "metadata": {
        "id": "2dqSCmoPe30e",
        "colab": {
          "base_uri": "https://localhost:8080/",
          "height": 206
        },
        "outputId": "3514f798-9e7a-482b-e1f7-527304db2b9f"
      },
      "source": [
        "data['len'] = data['smiles'].apply(lambda x: len(x))\n",
        "data.sort_values(by='len').head()"
      ],
      "execution_count": 10,
      "outputs": [
        {
          "output_type": "execute_result",
          "data": {
            "text/html": [
              "\n",
              "  <div id=\"df-da3770ce-4fb6-474a-8cb3-7cab80b45c65\">\n",
              "    <div class=\"colab-df-container\">\n",
              "      <div>\n",
              "<style scoped>\n",
              "    .dataframe tbody tr th:only-of-type {\n",
              "        vertical-align: middle;\n",
              "    }\n",
              "\n",
              "    .dataframe tbody tr th {\n",
              "        vertical-align: top;\n",
              "    }\n",
              "\n",
              "    .dataframe thead th {\n",
              "        text-align: right;\n",
              "    }\n",
              "</style>\n",
              "<table border=\"1\" class=\"dataframe\">\n",
              "  <thead>\n",
              "    <tr style=\"text-align: right;\">\n",
              "      <th></th>\n",
              "      <th>smiles</th>\n",
              "      <th>selfies</th>\n",
              "      <th>len</th>\n",
              "    </tr>\n",
              "  </thead>\n",
              "  <tbody>\n",
              "    <tr>\n",
              "      <th>15044</th>\n",
              "      <td>[H]C(=O)C(=O)C#N</td>\n",
              "      <td>[H][C][=Branch1][C][=O][C][=Branch1][C][=O][C]...</td>\n",
              "      <td>16</td>\n",
              "    </tr>\n",
              "    <tr>\n",
              "      <th>95974</th>\n",
              "      <td>[H]c1nc(F)nc(F)n1</td>\n",
              "      <td>[H][C][=N][C][Branch1][C][F][=N][C][Branch1][C...</td>\n",
              "      <td>17</td>\n",
              "    </tr>\n",
              "    <tr>\n",
              "      <th>35669</th>\n",
              "      <td>[H]C(=O)n1nnnc1[H]</td>\n",
              "      <td>[H][C][=Branch1][C][=O][N][N][=N][N][=C][Ring1...</td>\n",
              "      <td>18</td>\n",
              "    </tr>\n",
              "    <tr>\n",
              "      <th>45839</th>\n",
              "      <td>[H]c1nc(F)c(F)nc1F</td>\n",
              "      <td>[H][C][=N][C][Branch1][C][F][=C][Branch1][C][F...</td>\n",
              "      <td>18</td>\n",
              "    </tr>\n",
              "    <tr>\n",
              "      <th>69962</th>\n",
              "      <td>[H]OC([H])([H])C#N</td>\n",
              "      <td>[H][O][C][Branch1][C][H][Branch1][C][H][C][#N]</td>\n",
              "      <td>18</td>\n",
              "    </tr>\n",
              "  </tbody>\n",
              "</table>\n",
              "</div>\n",
              "      <button class=\"colab-df-convert\" onclick=\"convertToInteractive('df-da3770ce-4fb6-474a-8cb3-7cab80b45c65')\"\n",
              "              title=\"Convert this dataframe to an interactive table.\"\n",
              "              style=\"display:none;\">\n",
              "        \n",
              "  <svg xmlns=\"http://www.w3.org/2000/svg\" height=\"24px\"viewBox=\"0 0 24 24\"\n",
              "       width=\"24px\">\n",
              "    <path d=\"M0 0h24v24H0V0z\" fill=\"none\"/>\n",
              "    <path d=\"M18.56 5.44l.94 2.06.94-2.06 2.06-.94-2.06-.94-.94-2.06-.94 2.06-2.06.94zm-11 1L8.5 8.5l.94-2.06 2.06-.94-2.06-.94L8.5 2.5l-.94 2.06-2.06.94zm10 10l.94 2.06.94-2.06 2.06-.94-2.06-.94-.94-2.06-.94 2.06-2.06.94z\"/><path d=\"M17.41 7.96l-1.37-1.37c-.4-.4-.92-.59-1.43-.59-.52 0-1.04.2-1.43.59L10.3 9.45l-7.72 7.72c-.78.78-.78 2.05 0 2.83L4 21.41c.39.39.9.59 1.41.59.51 0 1.02-.2 1.41-.59l7.78-7.78 2.81-2.81c.8-.78.8-2.07 0-2.86zM5.41 20L4 18.59l7.72-7.72 1.47 1.35L5.41 20z\"/>\n",
              "  </svg>\n",
              "      </button>\n",
              "      \n",
              "  <style>\n",
              "    .colab-df-container {\n",
              "      display:flex;\n",
              "      flex-wrap:wrap;\n",
              "      gap: 12px;\n",
              "    }\n",
              "\n",
              "    .colab-df-convert {\n",
              "      background-color: #E8F0FE;\n",
              "      border: none;\n",
              "      border-radius: 50%;\n",
              "      cursor: pointer;\n",
              "      display: none;\n",
              "      fill: #1967D2;\n",
              "      height: 32px;\n",
              "      padding: 0 0 0 0;\n",
              "      width: 32px;\n",
              "    }\n",
              "\n",
              "    .colab-df-convert:hover {\n",
              "      background-color: #E2EBFA;\n",
              "      box-shadow: 0px 1px 2px rgba(60, 64, 67, 0.3), 0px 1px 3px 1px rgba(60, 64, 67, 0.15);\n",
              "      fill: #174EA6;\n",
              "    }\n",
              "\n",
              "    [theme=dark] .colab-df-convert {\n",
              "      background-color: #3B4455;\n",
              "      fill: #D2E3FC;\n",
              "    }\n",
              "\n",
              "    [theme=dark] .colab-df-convert:hover {\n",
              "      background-color: #434B5C;\n",
              "      box-shadow: 0px 1px 3px 1px rgba(0, 0, 0, 0.15);\n",
              "      filter: drop-shadow(0px 1px 2px rgba(0, 0, 0, 0.3));\n",
              "      fill: #FFFFFF;\n",
              "    }\n",
              "  </style>\n",
              "\n",
              "      <script>\n",
              "        const buttonEl =\n",
              "          document.querySelector('#df-da3770ce-4fb6-474a-8cb3-7cab80b45c65 button.colab-df-convert');\n",
              "        buttonEl.style.display =\n",
              "          google.colab.kernel.accessAllowed ? 'block' : 'none';\n",
              "\n",
              "        async function convertToInteractive(key) {\n",
              "          const element = document.querySelector('#df-da3770ce-4fb6-474a-8cb3-7cab80b45c65');\n",
              "          const dataTable =\n",
              "            await google.colab.kernel.invokeFunction('convertToInteractive',\n",
              "                                                     [key], {});\n",
              "          if (!dataTable) return;\n",
              "\n",
              "          const docLinkHtml = 'Like what you see? Visit the ' +\n",
              "            '<a target=\"_blank\" href=https://colab.research.google.com/notebooks/data_table.ipynb>data table notebook</a>'\n",
              "            + ' to learn more about interactive tables.';\n",
              "          element.innerHTML = '';\n",
              "          dataTable['output_type'] = 'display_data';\n",
              "          await google.colab.output.renderOutput(dataTable, element);\n",
              "          const docLink = document.createElement('div');\n",
              "          docLink.innerHTML = docLinkHtml;\n",
              "          element.appendChild(docLink);\n",
              "        }\n",
              "      </script>\n",
              "    </div>\n",
              "  </div>\n",
              "  "
            ],
            "text/plain": [
              "                   smiles                                            selfies  \\\n",
              "15044    [H]C(=O)C(=O)C#N  [H][C][=Branch1][C][=O][C][=Branch1][C][=O][C]...   \n",
              "95974   [H]c1nc(F)nc(F)n1  [H][C][=N][C][Branch1][C][F][=N][C][Branch1][C...   \n",
              "35669  [H]C(=O)n1nnnc1[H]  [H][C][=Branch1][C][=O][N][N][=N][N][=C][Ring1...   \n",
              "45839  [H]c1nc(F)c(F)nc1F  [H][C][=N][C][Branch1][C][F][=C][Branch1][C][F...   \n",
              "69962  [H]OC([H])([H])C#N     [H][O][C][Branch1][C][H][Branch1][C][H][C][#N]   \n",
              "\n",
              "       len  \n",
              "15044   16  \n",
              "95974   17  \n",
              "35669   18  \n",
              "45839   18  \n",
              "69962   18  "
            ]
          },
          "metadata": {},
          "execution_count": 10
        }
      ]
    },
    {
      "cell_type": "markdown",
      "metadata": {
        "id": "NrQelTLVa7wR"
      },
      "source": [
        "To convert SELFIES to a one-hot encoded representation, we need to construct an `alphabet` of all the characters that occur in the list of SELFIES strings. We also have to know what the longest SELFIES string is, so that all the shorter SELFIES can be padded with `'[nop]'` to be equal length."
      ]
    },
    {
      "cell_type": "code",
      "metadata": {
        "id": "BkQ0Sd3TY3Aq"
      },
      "source": [
        "selfies_list = np.asanyarray(data.selfies)\n",
        "selfies_alphabet = sf.get_alphabet_from_selfies(selfies_list)\n",
        "selfies_alphabet.add('[nop]')  # Add the \"no operation\" symbol as a padding character\n",
        "selfies_alphabet.add('.') \n",
        "selfies_alphabet = list(sorted(selfies_alphabet))\n",
        "largest_selfie_len = max(sf.len_selfies(s) for s in selfies_list)\n",
        "symbol_to_int = dict((c, i) for i, c in enumerate(selfies_alphabet))\n",
        "int_mol=keys_int(symbol_to_int)"
      ],
      "execution_count": 11,
      "outputs": []
    },
    {
      "cell_type": "markdown",
      "metadata": {
        "id": "vQ2m_WoHt7_m"
      },
      "source": [
        "`selfies` has a handy utility function to translate SELFIES strings into one-hot encoded vectors."
      ]
    },
    {
      "cell_type": "code",
      "metadata": {
        "id": "N9-d9yYMZSgI"
      },
      "source": [
        "onehots=sf.batch_selfies_to_flat_hot(selfies_list, symbol_to_int,largest_selfie_len)"
      ],
      "execution_count": 12,
      "outputs": []
    },
    {
      "cell_type": "markdown",
      "metadata": {
        "id": "daU67TZZbbLa"
      },
      "source": [
        "Next, we \"dequantize\" the inputs by adding random noise from the interval `[0, 1)` to every input in the encodings. This allows the normalizing flow to operate on continuous inputs (rather than discrete), and the original inputs can easily be recovered by applying a floor function."
      ]
    },
    {
      "cell_type": "code",
      "metadata": {
        "id": "u3ThEWVcbvxn"
      },
      "source": [
        "input_tensor = tf.convert_to_tensor(onehots, dtype='float64')\n",
        "noise_tensor = tf.random.uniform(shape=input_tensor.shape, minval=0, maxval=1, dtype='float64')\n",
        "dequantized_data = tf.add(input_tensor, noise_tensor)"
      ],
      "execution_count": 13,
      "outputs": []
    },
    {
      "cell_type": "markdown",
      "metadata": {
        "id": "B38gEbh6uLrr"
      },
      "source": [
        "The dequantized data is ready to be processed as a DeepChem dataset and split into training, validation, and test sets. We'll also keep track of the SMILES strings for the training set so we can compare the training data to our generated molecules later on."
      ]
    },
    {
      "cell_type": "code",
      "metadata": {
        "id": "O3JqekV0HjNm",
        "colab": {
          "base_uri": "https://localhost:8080/"
        },
        "outputId": "9d6b9440-ebed-4356-ae69-369e2e6dc047"
      },
      "source": [
        "ds = NumpyDataset(dequantized_data)  # Create a DeepChem dataset\n",
        "splitter = RandomSplitter()\n",
        "train, val, test = splitter.train_valid_test_split(dataset=ds, seed=42)\n",
        "train_idx, val_idx, test_idx = splitter.split(dataset=ds, seed=42)\n",
        "\n",
        "dim = len(train.X[0])  # length of one-hot encoded vectors\n",
        "train.X.shape  # 2000 samples, N-dimensional one-hot vectors that represent molecules"
      ],
      "execution_count": 14,
      "outputs": [
        {
          "output_type": "execute_result",
          "data": {
            "text/plain": [
              "(2000, 2795)"
            ]
          },
          "metadata": {},
          "execution_count": 14
        }
      ]
    },
    {
      "cell_type": "code",
      "metadata": {
        "id": "9In8bdWddovm"
      },
      "source": [
        "# SMILES strings of training data\n",
        "train_smiles = data['smiles'].iloc[train_idx].values"
      ],
      "execution_count": 15,
      "outputs": []
    },
    {
      "cell_type": "markdown",
      "metadata": {
        "id": "yZmmABKzI00F"
      },
      "source": [
        "Next we'll set up the normalizing flow model. The base distribution is a multivariate Normal distribution. The `permutation` layer permutes the dimensions of the input so that the normalizing flow layers will operate along multiple dimensions of the inputs. To understand why the permutation is needed, we need to know a bit about how the normalizing flow architecture works."
      ]
    },
    {
      "cell_type": "code",
      "metadata": {
        "id": "W_Ff2Q4rIyCe"
      },
      "source": [
        "base_dist = tfd.MultivariateNormalDiag(loc=np.zeros(dim), scale_diag=np.ones(dim))\n",
        "\n",
        "if dim % 2 == 0:\n",
        "    permutation = tf.cast(np.concatenate((np.arange(dim / 2, dim), np.arange(0, dim / 2))),\n",
        "                                  tf.int32)\n",
        "else:\n",
        "    permutation = tf.cast(np.concatenate((np.arange(dim / 2 + 1, dim), np.arange(0, dim / 2))), tf.int32)"
      ],
      "execution_count": 16,
      "outputs": []
    },
    {
      "cell_type": "markdown",
      "metadata": {
        "id": "FMCyGvKKJwXw"
      },
      "source": [
        "For this simple example, we'll set up a flow of repeating [Masked Autoregressive Flow](https://arxiv.org/abs/1705.07057) layers. The autoregressive property is enforced by using the [Masked Autoencoder for Distribution Estimation](https://arxiv.org/abs/1502.03509) architecture. The layers of the flow are a bijector, an invertible mapping between the base and target distributions.\n",
        "\n",
        "MAF takes the inputs from the base distribution and transforms them with a simple scale-and-shift (affine) operation, but crucially the scale-and-shift for each dimension of the output *depends on the previously generated dimensions of the output.* That independence of future dimensions preserves the *autoregressive* property and ensures that the normalizing flow is invertible. Now we can see that we need permutations to change the ordering of the inputs, or else the normalizing flow would only transform certain dimensions of the inputs.\n",
        "\n",
        "Batch Normalization layers can be added for additional stability in training, but may have strange effects on the outputs and require some input reshaping to work properly. Increasing `num_layers` and `hidden_units` can make more expressive flows capable of modeling more complex target distributions."
      ]
    },
    {
      "cell_type": "code",
      "metadata": {
        "id": "byIooYBqJ2UC"
      },
      "source": [
        "num_layers = 8\n",
        "flow_layers = []\n",
        "\n",
        "Made = tfb.AutoregressiveNetwork(params=2,\n",
        "                                 hidden_units=[512, 512], activation='relu')\n",
        "\n",
        "for i in range(num_layers):\n",
        "    flow_layers.append(        \n",
        "        (tfb.MaskedAutoregressiveFlow(shift_and_log_scale_fn=Made)\n",
        "    ))\n",
        "\n",
        "    permutation = tf.cast(np.random.permutation(np.arange(0, dim)), tf.int32)\n",
        "    \n",
        "    flow_layers.append(tfb.Permute(permutation=permutation))\n",
        "    \n",
        "#     if (i + 1) % int(2) == 0:\n",
        "#         flow_layers.append(tfb.BatchNormalization())"
      ],
      "execution_count": 17,
      "outputs": []
    },
    {
      "cell_type": "markdown",
      "metadata": {
        "id": "KMbxkF_8KZxR"
      },
      "source": [
        "We can draw samples from the untrained distribution, but for now they don't have any relation to the QM9 dataset distribution."
      ]
    },
    {
      "cell_type": "code",
      "metadata": {
        "id": "hBYNQrAYKQij",
        "colab": {
          "base_uri": "https://localhost:8080/"
        },
        "outputId": "6ad0eb80-aeb9-48d2-cd71-74037642c626"
      },
      "source": [
        "%%time\n",
        "nf = NormalizingFlow(base_distribution=base_dist,\n",
        "                    flow_layers=flow_layers)"
      ],
      "execution_count": 20,
      "outputs": [
        {
          "output_type": "stream",
          "name": "stdout",
          "text": [
            "CPU times: user 29.2 ms, sys: 1.86 ms, total: 31.1 ms\n",
            "Wall time: 38 ms\n"
          ]
        }
      ]
    },
    {
      "cell_type": "markdown",
      "metadata": {
        "id": "pa04f-1VcG0p"
      },
      "source": [
        "A `NormalizingFlowModel` takes a `NormalizingFlow` and any parameters used by `deepchem.models.KerasModel`."
      ]
    },
    {
      "cell_type": "code",
      "metadata": {
        "id": "iA56ui2MK1QA"
      },
      "source": [
        "nfm = NormalizingFlowModel(nf, learning_rate=1e-4, batch_size=128)"
      ],
      "execution_count": 21,
      "outputs": []
    },
    {
      "cell_type": "markdown",
      "metadata": {
        "id": "IL-Onju8K8nK"
      },
      "source": [
        "Now to train the model! We'll try to minimize the negative log likelihood loss, which measures the likelihood that generated samples are drawn from the target distribution, i.e. as we train the model, it should get better at modeling the target distribution and it will generate samples that look like molecules from the QM9 dataset. "
      ]
    },
    {
      "cell_type": "code",
      "metadata": {
        "id": "ZrmHYIHGK7-l"
      },
      "source": [
        "losses = []\n",
        "val_losses = []"
      ],
      "execution_count": 22,
      "outputs": []
    },
    {
      "cell_type": "code",
      "metadata": {
        "id": "vIURsPTpLZdh",
        "colab": {
          "base_uri": "https://localhost:8080/"
        },
        "outputId": "5507afbb-a853-41f5-9454-1c0f7a9a4d1f"
      },
      "source": [
        "%%time\n",
        "max_epochs = 10 # maximum number of epochs of the training\n",
        "\n",
        "for epoch in range(max_epochs):\n",
        "  loss = nfm.fit(train, nb_epoch=1, all_losses=losses)\n",
        "  val_loss = nfm.create_nll(val.X)\n",
        "  val_losses.append(val_loss.numpy())"
      ],
      "execution_count": 23,
      "outputs": [
        {
          "output_type": "stream",
          "name": "stdout",
          "text": [
            "WARNING:tensorflow:Model was constructed with shape (None, 2795) for input KerasTensor(type_spec=TensorSpec(shape=(None, 2795), dtype=tf.float64, name='input_1'), name='input_1', description=\"created by layer 'input_1'\"), but it was called on an input with incompatible shape (1, 128, 2795).\n",
            "WARNING:tensorflow:Model was constructed with shape (None, 2795) for input KerasTensor(type_spec=TensorSpec(shape=(None, 2795), dtype=tf.float64, name='input_1'), name='input_1', description=\"created by layer 'input_1'\"), but it was called on an input with incompatible shape (1, 128, 2795).\n",
            "WARNING:tensorflow:Model was constructed with shape (None, 2795) for input KerasTensor(type_spec=TensorSpec(shape=(None, 2795), dtype=tf.float64, name='input_1'), name='input_1', description=\"created by layer 'input_1'\"), but it was called on an input with incompatible shape (1, 128, 2795).\n",
            "WARNING:tensorflow:Model was constructed with shape (None, 2795) for input KerasTensor(type_spec=TensorSpec(shape=(None, 2795), dtype=tf.float64, name='input_1'), name='input_1', description=\"created by layer 'input_1'\"), but it was called on an input with incompatible shape (1, 128, 2795).\n",
            "WARNING:tensorflow:Model was constructed with shape (None, 2795) for input KerasTensor(type_spec=TensorSpec(shape=(None, 2795), dtype=tf.float64, name='input_1'), name='input_1', description=\"created by layer 'input_1'\"), but it was called on an input with incompatible shape (1, 128, 2795).\n",
            "WARNING:tensorflow:Model was constructed with shape (None, 2795) for input KerasTensor(type_spec=TensorSpec(shape=(None, 2795), dtype=tf.float64, name='input_1'), name='input_1', description=\"created by layer 'input_1'\"), but it was called on an input with incompatible shape (1, 128, 2795).\n",
            "WARNING:tensorflow:Model was constructed with shape (None, 2795) for input KerasTensor(type_spec=TensorSpec(shape=(None, 2795), dtype=tf.float64, name='input_1'), name='input_1', description=\"created by layer 'input_1'\"), but it was called on an input with incompatible shape (1, 128, 2795).\n",
            "WARNING:tensorflow:Model was constructed with shape (None, 2795) for input KerasTensor(type_spec=TensorSpec(shape=(None, 2795), dtype=tf.float64, name='input_1'), name='input_1', description=\"created by layer 'input_1'\"), but it was called on an input with incompatible shape (1, 128, 2795).\n",
            "WARNING:tensorflow:Model was constructed with shape (None, 2795) for input KerasTensor(type_spec=TensorSpec(shape=(None, 2795), dtype=tf.float64, name='input_1'), name='input_1', description=\"created by layer 'input_1'\"), but it was called on an input with incompatible shape (1, 128, 2795).\n",
            "WARNING:tensorflow:Model was constructed with shape (None, 2795) for input KerasTensor(type_spec=TensorSpec(shape=(None, 2795), dtype=tf.float64, name='input_1'), name='input_1', description=\"created by layer 'input_1'\"), but it was called on an input with incompatible shape (1, 128, 2795).\n",
            "WARNING:tensorflow:Model was constructed with shape (None, 2795) for input KerasTensor(type_spec=TensorSpec(shape=(None, 2795), dtype=tf.float64, name='input_1'), name='input_1', description=\"created by layer 'input_1'\"), but it was called on an input with incompatible shape (1, 128, 2795).\n",
            "WARNING:tensorflow:Model was constructed with shape (None, 2795) for input KerasTensor(type_spec=TensorSpec(shape=(None, 2795), dtype=tf.float64, name='input_1'), name='input_1', description=\"created by layer 'input_1'\"), but it was called on an input with incompatible shape (1, 128, 2795).\n",
            "WARNING:tensorflow:Model was constructed with shape (None, 2795) for input KerasTensor(type_spec=TensorSpec(shape=(None, 2795), dtype=tf.float64, name='input_1'), name='input_1', description=\"created by layer 'input_1'\"), but it was called on an input with incompatible shape (1, 128, 2795).\n",
            "WARNING:tensorflow:Model was constructed with shape (None, 2795) for input KerasTensor(type_spec=TensorSpec(shape=(None, 2795), dtype=tf.float64, name='input_1'), name='input_1', description=\"created by layer 'input_1'\"), but it was called on an input with incompatible shape (1, 128, 2795).\n",
            "WARNING:tensorflow:Model was constructed with shape (None, 2795) for input KerasTensor(type_spec=TensorSpec(shape=(None, 2795), dtype=tf.float64, name='input_1'), name='input_1', description=\"created by layer 'input_1'\"), but it was called on an input with incompatible shape (1, 128, 2795).\n",
            "WARNING:tensorflow:Model was constructed with shape (None, 2795) for input KerasTensor(type_spec=TensorSpec(shape=(None, 2795), dtype=tf.float64, name='input_1'), name='input_1', description=\"created by layer 'input_1'\"), but it was called on an input with incompatible shape (1, 128, 2795).\n",
            "WARNING:tensorflow:Model was constructed with shape (None, 2795) for input KerasTensor(type_spec=TensorSpec(shape=(None, 2795), dtype=tf.float64, name='input_1'), name='input_1', description=\"created by layer 'input_1'\"), but it was called on an input with incompatible shape (1, 128, 2795).\n",
            "WARNING:tensorflow:Model was constructed with shape (None, 2795) for input KerasTensor(type_spec=TensorSpec(shape=(None, 2795), dtype=tf.float64, name='input_1'), name='input_1', description=\"created by layer 'input_1'\"), but it was called on an input with incompatible shape (1, 128, 2795).\n",
            "WARNING:tensorflow:Model was constructed with shape (None, 2795) for input KerasTensor(type_spec=TensorSpec(shape=(None, 2795), dtype=tf.float64, name='input_1'), name='input_1', description=\"created by layer 'input_1'\"), but it was called on an input with incompatible shape (1, 128, 2795).\n",
            "WARNING:tensorflow:Model was constructed with shape (None, 2795) for input KerasTensor(type_spec=TensorSpec(shape=(None, 2795), dtype=tf.float64, name='input_1'), name='input_1', description=\"created by layer 'input_1'\"), but it was called on an input with incompatible shape (1, 128, 2795).\n",
            "WARNING:tensorflow:Model was constructed with shape (None, 2795) for input KerasTensor(type_spec=TensorSpec(shape=(None, 2795), dtype=tf.float64, name='input_1'), name='input_1', description=\"created by layer 'input_1'\"), but it was called on an input with incompatible shape (1, 128, 2795).\n",
            "WARNING:tensorflow:Model was constructed with shape (None, 2795) for input KerasTensor(type_spec=TensorSpec(shape=(None, 2795), dtype=tf.float64, name='input_1'), name='input_1', description=\"created by layer 'input_1'\"), but it was called on an input with incompatible shape (1, 128, 2795).\n",
            "WARNING:tensorflow:Model was constructed with shape (None, 2795) for input KerasTensor(type_spec=TensorSpec(shape=(None, 2795), dtype=tf.float64, name='input_1'), name='input_1', description=\"created by layer 'input_1'\"), but it was called on an input with incompatible shape (1, 128, 2795).\n",
            "WARNING:tensorflow:Model was constructed with shape (None, 2795) for input KerasTensor(type_spec=TensorSpec(shape=(None, 2795), dtype=tf.float64, name='input_1'), name='input_1', description=\"created by layer 'input_1'\"), but it was called on an input with incompatible shape (1, 128, 2795).\n",
            "WARNING:tensorflow:Model was constructed with shape (None, 2795) for input KerasTensor(type_spec=TensorSpec(shape=(None, 2795), dtype=tf.float64, name='input_1'), name='input_1', description=\"created by layer 'input_1'\"), but it was called on an input with incompatible shape (1, 128, 2795).\n",
            "WARNING:tensorflow:Model was constructed with shape (None, 2795) for input KerasTensor(type_spec=TensorSpec(shape=(None, 2795), dtype=tf.float64, name='input_1'), name='input_1', description=\"created by layer 'input_1'\"), but it was called on an input with incompatible shape (1, 128, 2795).\n",
            "WARNING:tensorflow:Model was constructed with shape (None, 2795) for input KerasTensor(type_spec=TensorSpec(shape=(None, 2795), dtype=tf.float64, name='input_1'), name='input_1', description=\"created by layer 'input_1'\"), but it was called on an input with incompatible shape (1, 128, 2795).\n",
            "WARNING:tensorflow:Model was constructed with shape (None, 2795) for input KerasTensor(type_spec=TensorSpec(shape=(None, 2795), dtype=tf.float64, name='input_1'), name='input_1', description=\"created by layer 'input_1'\"), but it was called on an input with incompatible shape (1, 128, 2795).\n",
            "WARNING:tensorflow:Model was constructed with shape (None, 2795) for input KerasTensor(type_spec=TensorSpec(shape=(None, 2795), dtype=tf.float64, name='input_1'), name='input_1', description=\"created by layer 'input_1'\"), but it was called on an input with incompatible shape (1, 128, 2795).\n",
            "WARNING:tensorflow:Model was constructed with shape (None, 2795) for input KerasTensor(type_spec=TensorSpec(shape=(None, 2795), dtype=tf.float64, name='input_1'), name='input_1', description=\"created by layer 'input_1'\"), but it was called on an input with incompatible shape (1, 128, 2795).\n",
            "WARNING:tensorflow:Model was constructed with shape (None, 2795) for input KerasTensor(type_spec=TensorSpec(shape=(None, 2795), dtype=tf.float64, name='input_1'), name='input_1', description=\"created by layer 'input_1'\"), but it was called on an input with incompatible shape (1, 128, 2795).\n",
            "WARNING:tensorflow:Model was constructed with shape (None, 2795) for input KerasTensor(type_spec=TensorSpec(shape=(None, 2795), dtype=tf.float64, name='input_1'), name='input_1', description=\"created by layer 'input_1'\"), but it was called on an input with incompatible shape (1, 128, 2795).\n",
            "CPU times: user 14min 11s, sys: 21.3 s, total: 14min 32s\n",
            "Wall time: 7min 38s\n"
          ]
        }
      ]
    },
    {
      "cell_type": "code",
      "metadata": {
        "id": "k33LyZsPNwUg",
        "colab": {
          "base_uri": "https://localhost:8080/",
          "height": 265
        },
        "outputId": "93b28735-1efc-4dd5-ebb9-89114c0a0d7a"
      },
      "source": [
        "f, ax = plt.subplots()\n",
        "ax.scatter(range(len(losses)), losses, label='train loss')\n",
        "ax.scatter(range(len(val_losses)), val_losses, label='val loss')\n",
        "plt.legend(loc='upper right');"
      ],
      "execution_count": 24,
      "outputs": [
        {
          "output_type": "display_data",
          "data": {
            "image/png": "[encoded data removed]",
            "text/plain": [
              "<Figure size 432x288 with 1 Axes>"
            ]
          },
          "metadata": {
            "needs_background": "light"
          }
        }
      ]
    },
    {
      "cell_type": "markdown",
      "metadata": {
        "id": "9k-x3QVMOVNr"
      },
      "source": [
        "The normalizing flow is learning a mapping between the multivariate Gaussian and the target distribution! We can see this by visualizing the loss on the validation set. We can now use `nfm.flow.sample()` to generate new QM9-like molecules and `nfm.flow.log_prob()` to evaluate the likelihood that a molecule was drawn from the underlying distribution."
      ]
    },
    {
      "cell_type": "code",
      "metadata": {
        "id": "mW8DeYFmOrJh"
      },
      "source": [
        "generated_samples = nfm.flow.sample(10)  # generative modeling\n",
        "log_probs = nfm.flow.log_prob(generated_samples)  # probability density estimation"
      ],
      "execution_count": 25,
      "outputs": []
    },
    {
      "cell_type": "markdown",
      "metadata": {
        "id": "s0M2xaqcdYEc"
      },
      "source": [
        "Now we transform the generated samples back into SELFIES. We have to quantize the outputs and add padding characters to any one-hot encoding vector that has all zeros."
      ]
    },
    {
      "cell_type": "code",
      "metadata": {
        "id": "DVVQ-dwWdXWb"
      },
      "source": [
        "mols = tf.math.floor(generated_samples)  # quantize data\n",
        "mols = tf.clip_by_value(mols, 0, 1)  # Set negative values to 0 and values > 1 to 1\n",
        "mols_list = mols.numpy().tolist()\n",
        "\n",
        "# Add padding characters if needed\n",
        "for mol in mols_list:\n",
        "  for i in range(largest_selfie_len):\n",
        "    row = mol[len(selfies_alphabet) * i: len(selfies_alphabet) * (i + 1)]\n",
        "    if all(elem == 0 for elem in row):\n",
        "      mol[len(selfies_alphabet) * (i+1) - 1] = 1"
      ],
      "execution_count": 26,
      "outputs": []
    },
    {
      "cell_type": "markdown",
      "metadata": {
        "id": "tpwHYMP0LAvS"
      },
      "source": [
        "`selfies` has another utility function to translate one-hot encoded representations back to SELFIES strings."
      ]
    },
    {
      "cell_type": "code",
      "metadata": {
        "id": "2XV-ZTgFjP04"
      },
      "source": [
        "mols=sf.batch_flat_hot_to_selfies(mols_list, int_mol)"
      ],
      "execution_count": 27,
      "outputs": []
    },
    {
      "cell_type": "markdown",
      "metadata": {
        "id": "hoC6RD8fdvVA"
      },
      "source": [
        "We can use RDKit to find valid generated molecules. Some have unphysical valencies and should be discarded. If you've ever tried to generate valid SMILES strings, you'll notice right away that this model is doing much better than we would expect! Using SELFIES, 90\\% of the generated molecules are valid, even though our normalizing flow architecture doesn't know any rules that govern chemical validity."
      ]
    },
    {
      "cell_type": "code",
      "metadata": {
        "id": "F7EVnH9SdyN7",
        "colab": {
          "base_uri": "https://localhost:8080/"
        },
        "outputId": "99438b72-426e-439f-ff80-b2cdd007be8b"
      },
      "source": [
        "from rdkit import RDLogger  \n",
        "from rdkit import Chem\n",
        "RDLogger.DisableLog('rdApp.*')  # suppress error messages\n",
        "\n",
        "valid_count = 0\n",
        "valid_selfies, invalid_selfies = [], []\n",
        "for idx, selfies in enumerate(mols):\n",
        "  try:\n",
        "    if Chem.MolFromSmiles(sf.decoder(mols[idx]), sanitize=True) is not None:\n",
        "        valid_count += 1\n",
        "        valid_selfies.append(selfies)\n",
        "    else:\n",
        "      invalid_selfies.append(selfies)\n",
        "  except Exception:\n",
        "    pass\n",
        "print('%.2f' % (valid_count / len(mols)),  '% of generated samples are valid molecules.')"
      ],
      "execution_count": 28,
      "outputs": [
        {
          "output_type": "stream",
          "name": "stdout",
          "text": [
            "1.00 % of generated samples are valid molecules.\n"
          ]
        }
      ]
    },
    {
      "cell_type": "markdown",
      "metadata": {
        "id": "pyt6ta2-d5Rd"
      },
      "source": [
        "Let's take a look at some of the generated molecules! We'll borrow some helper functions from the [Modeling Solubility](https://github.com/deepchem/deepchem/blob/master/examples/tutorials/03_Modeling_Solubility.ipynb) tutorial to display molecules with RDKit."
      ]
    },
    {
      "cell_type": "code",
      "metadata": {
        "id": "XyE4CuaRe7BL"
      },
      "source": [
        "gen_mols = [Chem.MolFromSmiles(sf.decoder(vs)) for vs in valid_selfies]"
      ],
      "execution_count": 29,
      "outputs": []
    },
    {
      "cell_type": "code",
      "metadata": {
        "id": "JehQTBLXd9Gn"
      },
      "source": [
        "def display_images(filenames):\n",
        "    \"\"\"Helper to pretty-print images.\"\"\"\n",
        "    for file in filenames:\n",
        "      display(Image(file))\n",
        "\n",
        "def mols_to_pngs(mols, basename=\"generated_mol\"):\n",
        "    \"\"\"Helper to write RDKit mols to png files.\"\"\"\n",
        "    filenames = []\n",
        "    for i, mol in enumerate(mols):\n",
        "        filename = \"%s%d.png\" % (basename, i)\n",
        "        Draw.MolToFile(mol, filename)\n",
        "        filenames.append(filename)\n",
        "    return filenames"
      ],
      "execution_count": 30,
      "outputs": []
    },
    {
      "cell_type": "code",
      "metadata": {
        "id": "oyWxxxqvnKGf",
        "colab": {
          "base_uri": "https://localhost:8080/",
          "height": 1000
        },
        "outputId": "0fd242d4-0a00-4a53-b446-f4730b4a9d12"
      },
      "source": [
        "display_mols = []\n",
        "for i in range(10):\n",
        "  display_mols.append(gen_mols[i])\n",
        "\n",
        "display_images(mols_to_pngs(display_mols))"
      ],
      "execution_count": 31,
      "outputs": [
        {
          "output_type": "display_data",
          "data": {
            "image/png": "[encoded data removed]",
            "text/plain": [
              "<IPython.core.display.Image object>"
            ]
          },
          "metadata": {}
        },
        {
          "output_type": "display_data",
          "data": {
            "image/png": "[encoded data removed]",
            "text/plain": [
              "<IPython.core.display.Image object>"
            ]
          },
          "metadata": {}
        },
        {
          "output_type": "display_data",
          "data": {
            "image/png": "[encoded data removed]",
            "text/plain": [
              "<IPython.core.display.Image object>"
            ]
          },
          "metadata": {}
        },
        {
          "output_type": "display_data",
          "data": {
            "image/png": "[encoded data removed]",
            "text/plain": [
              "<IPython.core.display.Image object>"
            ]
          },
          "metadata": {}
        },
        {
          "output_type": "display_data",
          "data": {
            "image/png": "[encoded data removed]",
            "text/plain": [
              "<IPython.core.display.Image object>"
            ]
          },
          "metadata": {}
        },
        {
          "output_type": "display_data",
          "data": {
            "image/png": "[encoded data removed]",
            "text/plain": [
              "<IPython.core.display.Image object>"
            ]
          },
          "metadata": {}
        },
        {
          "output_type": "display_data",
          "data": {
            "image/png": "[encoded data removed]",
            "text/plain": [
              "<IPython.core.display.Image object>"
            ]
          },
          "metadata": {}
        },
        {
          "output_type": "display_data",
          "data": {
            "image/png": "[encoded data removed]",
            "text/plain": [
              "<IPython.core.display.Image object>"
            ]
          },
          "metadata": {}
        },
        {
          "output_type": "display_data",
          "data": {
            "image/png": "[encoded data removed]",
            "text/plain": [
              "<IPython.core.display.Image object>"
            ]
          },
          "metadata": {}
        },
        {
          "output_type": "display_data",
          "data": {
            "image/png": "[encoded data removed]",
            "text/plain": [
              "<IPython.core.display.Image object>"
            ]
          },
          "metadata": {}
        }
      ]
    },
    {
      "cell_type": "markdown",
      "metadata": {
        "id": "2R5K7Y5hedbW"
      },
      "source": [
        "Finally, we can compare generated molecules with our training data via a [similarity search](https://medium.com/gsi-technology/rdkit-for-newbies-3697e617521f) with Tanimoto similarity. This gives an indication of how \"original\" the generated samples are, versus simply producing samples that are extremely similar to molecules the model has already seen. We have to keep in mind that QM9 contains *all* stable small molecules with up to 9 heavy atoms (CONF). So anything new we generate either exists in the full QM9 dataset, or else will not obey the charge neutrality and stability criteria used to generated QM9."
      ]
    },
    {
      "cell_type": "code",
      "metadata": {
        "id": "RE_vIKDke3Vd"
      },
      "source": [
        "from rdkit.Chem.Fingerprints.FingerprintMols import FingerprintMol\n",
        "from rdkit.DataStructs import FingerprintSimilarity\n",
        "from IPython.display import display\n",
        "\n",
        "def tanimoto_similarity(database_mols, query_mol):\n",
        "    \"\"\"Compare generated molecules to database by Tanimoto similarity.\"\"\"\n",
        "    # convert Mol to datastructure type\n",
        "    fps = [FingerprintMol(m) for m in database_mols]\n",
        "    \n",
        "    # set a query molecule to compare against database\n",
        "    query = FingerprintMol(query_mol)\n",
        "    \n",
        "    similarities = []\n",
        "    \n",
        "    # loop through to find Tanimoto similarity\n",
        "    for idx, f in enumerate(fps):\n",
        "        # tuple: (idx, similarity)\n",
        "        similarities.append((idx, FingerprintSimilarity(query, f)))\n",
        "    \n",
        "    # sort sim using the similarities\n",
        "    similarities.sort(key=lambda x:x[1], reverse=True)\n",
        "    \n",
        "    return similarities"
      ],
      "execution_count": 32,
      "outputs": []
    },
    {
      "cell_type": "markdown",
      "metadata": {
        "id": "cCPEN3_cfQ4N"
      },
      "source": [
        "We'll consider our generated molecules and look at the top 3 most similar molecules from the training data by Tanimoto similarity. Here's an example where the Tanimoto similarity scores are medium. There are molecules in our training set that are similar to our generated sample. This might be interesting, or it might mean that the generated molecule is unrealistic."
      ]
    },
    {
      "cell_type": "code",
      "metadata": {
        "id": "MjR0O1EucwC3"
      },
      "source": [
        "train_mols = [Chem.MolFromSmiles(smiles) for smiles in train_smiles]"
      ],
      "execution_count": 33,
      "outputs": []
    },
    {
      "cell_type": "code",
      "metadata": {
        "id": "vsaSkVJufGDy"
      },
      "source": [
        "# change the second argument to compare different generated molecules to QM9\n",
        "tanimoto_scores = tanimoto_similarity(train_mols, gen_mols[3])\n",
        "similar_mols = []"
      ],
      "execution_count": 34,
      "outputs": []
    },
    {
      "cell_type": "code",
      "metadata": {
        "id": "zgyJ9txQsRxg",
        "colab": {
          "base_uri": "https://localhost:8080/",
          "height": 971
        },
        "outputId": "34053f87-59ef-4223-df21-935ddad09020"
      },
      "source": [
        "for idx, ts in tanimoto_scores[:3]:\n",
        "    print(round(ts, 3))\n",
        "    similar_mols.append(train_mols[idx])\n",
        "\n",
        "display_images(mols_to_pngs(similar_mols, 'qm9_mol'))"
      ],
      "execution_count": 35,
      "outputs": [
        {
          "output_type": "stream",
          "name": "stdout",
          "text": [
            "0.539\n",
            "0.531\n",
            "0.522\n"
          ]
        },
        {
          "output_type": "display_data",
          "data": {
            "image/png": "[encoded data removed]",
            "text/plain": [
              "<IPython.core.display.Image object>"
            ]
          },
          "metadata": {}
        },
        {
          "output_type": "display_data",
          "data": {
            "image/png": "[encoded data removed]",
            "text/plain": [
              "<IPython.core.display.Image object>"
            ]
          },
          "metadata": {}
        },
        {
          "output_type": "display_data",
          "data": {
            "image/png": "[encoded data removed]",
            "text/plain": [
              "<IPython.core.display.Image object>"
            ]
          },
          "metadata": {}
        }
      ]
    },
    {
      "cell_type": "markdown",
      "metadata": {
        "id": "5oyYuK11xxBO"
      },
      "source": [
        "### Further reading\n",
        "\n",
        "So far we have looked at a measure of validity and done a bit of investigation into the novelty of the generated compounds. There are more dimensions along which we can and should evaluate the performance of a generative model. For an example of some standard benchmarks, see the [GuacaMol evaluation framework](https://arxiv.org/pdf/1811.09621.pdf).\n",
        "\n",
        "For examples of normalizing flow-based molecular graph generation frameworks, check out the [MoFlow](https://arxiv.org/abs/2006.10137), [GraphAF](https://arxiv.org/pdf/2001.09382.pdf), and [GraphNVP](https://arxiv.org/pdf/1905.11600.pdf) papers."
      ]
    },
    {
      "cell_type": "markdown",
      "metadata": {
        "id": "YdJAF3aEHGbV"
      },
      "source": [
        "# Congratulations! Time to join the Community!\n",
        "\n",
        "Congratulations on completing this tutorial notebook! If you enjoyed working through the tutorial, and want to continue working with DeepChem, we encourage you to finish the rest of the tutorials in this series. You can also help the DeepChem community in the following ways:\n",
        "\n",
        "## Star DeepChem on [GitHub](https://github.com/deepchem/deepchem)\n",
        "This helps build awareness of the DeepChem project and the tools for open source drug discovery that we're trying to build.\n",
        "\n",
        "## Join the DeepChem Gitter\n",
        "The DeepChem [Gitter](https://gitter.im/deepchem/Lobby) hosts a number of scientists, developers, and enthusiasts interested in deep learning for the life sciences. Join the conversation!"
      ]
    }
  ]
}